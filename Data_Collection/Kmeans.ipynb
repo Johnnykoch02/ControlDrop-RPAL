{
 "cells": [
  {
   "cell_type": "code",
   "execution_count": 22,
   "metadata": {},
   "outputs": [],
   "source": [
    "# This code has been adapted from:\n",
    "# https://github.com/Muhammads786/SQLMachineLearningAlgorithms/blob/main/k_Mean_Clustering_Euclidean_Demo.ipynb\n",
    "\n",
    "import numpy as np\n",
    "import pandas as pd\n",
    "import matplotlib as plt\n",
    "import matplotlib.pyplot as plt\n",
    "import math\n",
    "import random\n",
    "import os\n",
    "import gzip\n",
    "import time"
   ]
  },
  {
   "cell_type": "code",
   "execution_count": 23,
   "id": "a7a436af",
   "metadata": {},
   "outputs": [],
   "source": [
    "def read_files():\n",
    "        file_name = os.path.join(\"/media/rpal/SSD512/John/Control Drop\",'Reinforcement Learning','src','RL', 'Training','Data','40_mm_sphere_control_drop_scenes.npy.gz')\n",
    "        with gzip.GzipFile(file_name) as f:\n",
    "            data = np.load(f, allow_pickle= True,)\n",
    "        # train_path = os.path.join(CHECKPOINT_DIR)\n",
    "        # names = os.listdir(train_path)\n",
    "        # names = [re.sub('[a-z_.]', '', name) for name in names]\n",
    "        \n",
    "        return data\n",
    "\n",
    "data_obj = read_files()\n",
    "\n",
    "data=[]\n",
    "\n",
    "for i in data_obj:\n",
    "    row = []\n",
    "    for j in range(len(i)-7, len(i)):\n",
    "        row.append(float(i[j]))\n",
    "    data.append(row)\n",
    "    \n",
    "        "
   ]
  },
  {
   "cell_type": "code",
   "execution_count": 24,
   "id": "23c8612e",
   "metadata": {},
   "outputs": [],
   "source": [
    "def calculateEuclideanDistance(point_item,point):\n",
    "  eucldian_distance=math.sqrt(np.sum(np.subtract(point_item,point)*np.subtract(point_item,point)))\n",
    "  return eucldian_distance"
   ]
  },
  {
   "cell_type": "code",
   "execution_count": 25,
   "id": "79cd75d7",
   "metadata": {},
   "outputs": [],
   "source": [
    "def AddToBin(clusters, point, data_obj, index):\n",
    "    min_dist = math.inf\n",
    "    min_dist_index = -1\n",
    "    for i in range(len(clusters)):\n",
    "        dist = calculateEuclideanDistance(point, clusters[i]['centroid'])\n",
    "        if dist < min_dist:\n",
    "            min_dist = dist\n",
    "            min_dist_index = i\n",
    "    clusters[min_dist_index]['points'].append(data_obj[index])"
   ]
  },
  {
   "cell_type": "code",
   "execution_count": 28,
   "id": "78e82744",
   "metadata": {},
   "outputs": [
    {
     "name": "stdout",
     "output_type": "stream",
     "text": [
      "(0,)\n"
     ]
    },
    {
     "ename": "ValueError",
     "evalue": "Expected 2D array, got 1D array instead:\narray=[].\nReshape your data either using array.reshape(-1, 1) if your data has a single feature or array.reshape(1, -1) if it contains a single sample.",
     "output_type": "error",
     "traceback": [
      "\u001b[0;31m---------------------------------------------------------------------------\u001b[0m",
      "\u001b[0;31mValueError\u001b[0m                                Traceback (most recent call last)",
      "\u001b[0;32m<ipython-input-28-f68c64ef46ac>\u001b[0m in \u001b[0;36m<module>\u001b[0;34m\u001b[0m\n\u001b[1;32m      4\u001b[0m \u001b[0;34m\u001b[0m\u001b[0m\n\u001b[1;32m      5\u001b[0m \u001b[0mkm\u001b[0m \u001b[0;34m=\u001b[0m \u001b[0mKMeans\u001b[0m\u001b[0;34m(\u001b[0m\u001b[0mn_clusters\u001b[0m\u001b[0;34m=\u001b[0m\u001b[0;36m10\u001b[0m\u001b[0;34m,\u001b[0m \u001b[0mmax_iter\u001b[0m\u001b[0;34m=\u001b[0m\u001b[0;36m1000\u001b[0m\u001b[0;34m)\u001b[0m\u001b[0;34m\u001b[0m\u001b[0;34m\u001b[0m\u001b[0m\n\u001b[0;32m----> 6\u001b[0;31m \u001b[0mcluster_predict\u001b[0m \u001b[0;34m=\u001b[0m \u001b[0mkm\u001b[0m\u001b[0;34m.\u001b[0m\u001b[0mfit\u001b[0m\u001b[0;34m(\u001b[0m\u001b[0mdata\u001b[0m\u001b[0;34m)\u001b[0m\u001b[0;34m\u001b[0m\u001b[0;34m\u001b[0m\u001b[0m\n\u001b[0m\u001b[1;32m      7\u001b[0m \u001b[0;34m\u001b[0m\u001b[0m\n\u001b[1;32m      8\u001b[0m \u001b[0mcluster_data\u001b[0m \u001b[0;34m=\u001b[0m \u001b[0;34m[\u001b[0m\u001b[0;34m]\u001b[0m\u001b[0;34m\u001b[0m\u001b[0;34m\u001b[0m\u001b[0m\n",
      "\u001b[0;32m~/.local/lib/python3.8/site-packages/sklearn/cluster/_kmeans.py\u001b[0m in \u001b[0;36mfit\u001b[0;34m(self, X, y, sample_weight)\u001b[0m\n\u001b[1;32m    856\u001b[0m         \u001b[0;31m# avoid forcing order when copy_x=False\u001b[0m\u001b[0;34m\u001b[0m\u001b[0;34m\u001b[0m\u001b[0;34m\u001b[0m\u001b[0m\n\u001b[1;32m    857\u001b[0m         \u001b[0morder\u001b[0m \u001b[0;34m=\u001b[0m \u001b[0;34m\"C\"\u001b[0m \u001b[0;32mif\u001b[0m \u001b[0mself\u001b[0m\u001b[0;34m.\u001b[0m\u001b[0mcopy_x\u001b[0m \u001b[0;32melse\u001b[0m \u001b[0;32mNone\u001b[0m\u001b[0;34m\u001b[0m\u001b[0;34m\u001b[0m\u001b[0m\n\u001b[0;32m--> 858\u001b[0;31m         X = check_array(X, accept_sparse='csr', dtype=[np.float64, np.float32],\n\u001b[0m\u001b[1;32m    859\u001b[0m                         order=order, copy=self.copy_x)\n\u001b[1;32m    860\u001b[0m         \u001b[0;31m# verify that the number of samples given is larger than k\u001b[0m\u001b[0;34m\u001b[0m\u001b[0;34m\u001b[0m\u001b[0;34m\u001b[0m\u001b[0m\n",
      "\u001b[0;32m~/.local/lib/python3.8/site-packages/sklearn/utils/validation.py\u001b[0m in \u001b[0;36mcheck_array\u001b[0;34m(array, accept_sparse, accept_large_sparse, dtype, order, copy, force_all_finite, ensure_2d, allow_nd, ensure_min_samples, ensure_min_features, warn_on_dtype, estimator)\u001b[0m\n\u001b[1;32m    550\u001b[0m             \u001b[0;31m# If input is 1D raise error\u001b[0m\u001b[0;34m\u001b[0m\u001b[0;34m\u001b[0m\u001b[0;34m\u001b[0m\u001b[0m\n\u001b[1;32m    551\u001b[0m             \u001b[0;32mif\u001b[0m \u001b[0marray\u001b[0m\u001b[0;34m.\u001b[0m\u001b[0mndim\u001b[0m \u001b[0;34m==\u001b[0m \u001b[0;36m1\u001b[0m\u001b[0;34m:\u001b[0m\u001b[0;34m\u001b[0m\u001b[0;34m\u001b[0m\u001b[0m\n\u001b[0;32m--> 552\u001b[0;31m                 raise ValueError(\n\u001b[0m\u001b[1;32m    553\u001b[0m                     \u001b[0;34m\"Expected 2D array, got 1D array instead:\\narray={}.\\n\"\u001b[0m\u001b[0;34m\u001b[0m\u001b[0;34m\u001b[0m\u001b[0m\n\u001b[1;32m    554\u001b[0m                     \u001b[0;34m\"Reshape your data either using array.reshape(-1, 1) if \"\u001b[0m\u001b[0;34m\u001b[0m\u001b[0;34m\u001b[0m\u001b[0m\n",
      "\u001b[0;31mValueError\u001b[0m: Expected 2D array, got 1D array instead:\narray=[].\nReshape your data either using array.reshape(-1, 1) if your data has a single feature or array.reshape(1, -1) if it contains a single sample."
     ]
    }
   ],
   "source": [
    "from sklearn.cluster import KMeans\n",
    "\n",
    "print(np.shape(data))\n",
    "\n",
    "km = KMeans(n_clusters=10, max_iter=1000)\n",
    "cluster_predict = km.fit(data)\n",
    "\n",
    "cluster_data = []\n",
    "\n",
    "for i in km.cluster_centers_:\n",
    "    cluster_data.append({\n",
    "            'centroid': i,\n",
    "            'points': []\n",
    "        })\n",
    "    \n",
    "\n",
    "for index, scene in enumerate(data):\n",
    "    AddToBin(cluster_data, scene, data_obj, index)\n"
   ]
  },
  {
   "cell_type": "code",
   "execution_count": null,
   "id": "3c54cdeb",
   "metadata": {},
   "outputs": [],
   "source": [
    "save_dir = os.path.join(\"/media/rpal/SSD512/John/Control Drop\", \"Data_Collection\", \"Clusters\")\n",
    "for i, cluster in enumerate(cluster_data):\n",
    "    save_arr = np.array(cluster['points'])\n",
    "    # os.makedirs(os.path.join(save_dir, f\"{i}\"))\n",
    "    save_file = os.path.join(save_dir, f\"{i}.npy\")\n",
    "    np.save(save_file, save_arr)"
   ]
  }
 ],
 "metadata": {
  "kernelspec": {
   "display_name": "Python 3.8.10 64-bit",
   "language": "python",
   "name": "python3"
  },
  "language_info": {
   "codemirror_mode": {
    "name": "ipython",
    "version": 3
   },
   "file_extension": ".py",
   "mimetype": "text/x-python",
   "name": "python",
   "nbconvert_exporter": "python",
   "pygments_lexer": "ipython3",
   "version": "3.8.10"
  },
  "vscode": {
   "interpreter": {
    "hash": "e7370f93d1d0cde622a1f8e1c04877d8463912d04d973331ad4851f04de6915a"
   }
  }
 },
 "nbformat": 4,
 "nbformat_minor": 5
}
