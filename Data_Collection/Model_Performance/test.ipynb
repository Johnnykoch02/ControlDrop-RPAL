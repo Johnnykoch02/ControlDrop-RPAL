{
 "cells": [
  {
   "cell_type": "code",
   "execution_count": 14,
   "metadata": {},
   "outputs": [
    {
     "name": "stdout",
     "output_type": "stream",
     "text": [
      "test.ipynb\n"
     ]
    }
   ],
   "source": [
    "import os\n",
    "import re\n",
    "\n",
    "model_files = [f for f in os.listdir(\".\") if \".zip\" in f]\n",
    "for f in model_files:\n",
    "    most_recent_file = max(\n",
    "        model_files, key=lambda f: os.path.getctime(os.path.join(os.getcwd(), f))\n",
    "    )\n",
    "print(most_recent_file)"
   ]
  }
 ],
 "metadata": {
  "kernelspec": {
   "display_name": "stbl3",
   "language": "python",
   "name": "python3"
  },
  "language_info": {
   "name": "python",
   "version": "3.7.3"
  },
  "orig_nbformat": 4
 },
 "nbformat": 4,
 "nbformat_minor": 2
}
