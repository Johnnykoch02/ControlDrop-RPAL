{
 "cells": [
  {
   "cell_type": "code",
   "execution_count": 14,
   "metadata": {},
   "outputs": [
    {
     "name": "stdout",
     "output_type": "stream",
     "text": [
      "test.ipynb\n"
     ]
    }
   ],
   "source": [
    "import os\n",
    "import re\n",
    "model_files = [f for f in os.listdir('.') if '.zip' in f]\n",
    "for f in model_files:\n",
    "    most_recent_file = max(model_files, key=lambda f: os.path.getctime(os.path.join(os.getcwd(), f)))\n",
    "print(most_recent_file)"
   ]
  }
 ],
 "metadata": {
  "language_info": {
   "name": "python"
  },
  "orig_nbformat": 4
 },
 "nbformat": 4,
 "nbformat_minor": 2
}
