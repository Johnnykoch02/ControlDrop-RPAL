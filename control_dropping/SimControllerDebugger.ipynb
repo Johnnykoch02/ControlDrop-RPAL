{
 "cells": [
  {
   "cell_type": "code",
   "execution_count": null,
   "metadata": {},
   "outputs": [],
   "source": [
    "## Run Environment\n",
    "import os\n",
    "import sys\n",
    "\n",
    "os.chdir(\"..\")\n",
    "import torch as th\n",
    "from src.RL.Networks.ExtractorNetworks import ObjectTactileEncoder\n",
    "from src.RL.control_dropping_env import BerrettHandGym\n",
    "from gym.spaces import Box\n",
    "from math import inf, radians, degrees\n",
    "\n",
    "DATA_SAVE_PATH = os.path.join(os.getcwd(), \"..\", \"Data_Collection\")\n",
    "\n",
    "\n",
    "env = BerrettHandGym(\n",
    "    detailed_training=True,\n",
    ")\n",
    "simController = env.simController\n",
    "state_space = {\n",
    "    \"palm_tactile\": Box(low=-inf, high=inf, shape=(24,)),  # Value\n",
    "    \"finger_1_tactile\": Box(low=-inf, high=inf, shape=(24,)),  # Value\n",
    "    \"finger_2_tactile\": Box(low=-inf, high=inf, shape=(24,)),  # Value\n",
    "    \"finger_3_tactile\": Box(low=-inf, high=inf, shape=(24,)),  # Value\n",
    "    # 'tactile_pos': Box(low= -inf, high= inf, shape=(378, )), # Position\n",
    "    \"finger_1_location\": Box(\n",
    "        low=-inf, high=inf, shape=(2 + 34 * 3,)\n",
    "    ),  # Joint pos [Theta_1, Theta_2] + [xyz*34]\n",
    "    \"finger_2_location\": Box(low=-inf, high=inf, shape=(2 + 34 * 3,)),\n",
    "    \"finger_3_location\": Box(low=-inf, high=inf, shape=(2 + 34 * 3,)),\n",
    "    \"palm_location\": Box(low=-inf, high=inf, shape=(2 + 24 * 3,)),\n",
    "    \"obj_location\": Box(low=-inf, high=inf, shape=(7, 6)),  # Position\n",
    "    \"obj_velocity\": Box(\n",
    "        low=-inf, high=inf, shape=(7, 6)\n",
    "    ),  # Value, Concat with angular velocity\n",
    "    \"state_attrib\": Box(\n",
    "        low=-inf, high=inf, shape=(45,)\n",
    "    ),  # Ball Cnt, Progress, Prev.Actions, hand_cfg, hand_trq (44)\n",
    "}"
   ]
  },
  {
   "cell_type": "code",
   "execution_count": null,
   "metadata": {},
   "outputs": [],
   "source": [
    "### Test locations of the ball\n",
    "while input(\":>\").lower() != \"y\":\n",
    "    env.reset()[0]"
   ]
  },
  {
   "cell_type": "code",
   "execution_count": 29,
   "metadata": {},
   "outputs": [
    {
     "name": "stdout",
     "output_type": "stream",
     "text": [
      "Preventing Movement.\n",
      "Preventing Movement.\n",
      "Preventing Movement.\n",
      "Preventing Movement.\n",
      "Preventing Movement.\n",
      "Preventing Movement.\n",
      "setting hand configuration to: [180.02435545 120.00221599 132.         107.91380835  40.07105775\n",
      "  44.96057628  35.65309649]\n",
      "Threshold finger1: -3.682389497756958\n",
      "Threshold finger2: -2.904416799545288\n",
      "Threshold finger3: -2.9301981925964355\n"
     ]
    },
    {
     "data": {
      "text/plain": [
       "array([180.02435545, 120.00221599, 132.        , 107.91380835,\n",
       "        40.07105775,  44.96057628,  35.65309649])"
      ]
     },
     "execution_count": 29,
     "metadata": {},
     "output_type": "execute_result"
    }
   ],
   "source": [
    "step = [0, 0, 0, -3, 0, 0, -1]\n",
    "simController.step_hand_config(step)"
   ]
  }
 ],
 "metadata": {
  "kernelspec": {
   "display_name": "stbl3",
   "language": "python",
   "name": "python3"
  },
  "language_info": {
   "codemirror_mode": {
    "name": "ipython",
    "version": 3
   },
   "file_extension": ".py",
   "mimetype": "text/x-python",
   "name": "python",
   "nbconvert_exporter": "python",
   "pygments_lexer": "ipython3",
   "version": "3.7.3"
  },
  "orig_nbformat": 4
 },
 "nbformat": 4,
 "nbformat_minor": 2
}
