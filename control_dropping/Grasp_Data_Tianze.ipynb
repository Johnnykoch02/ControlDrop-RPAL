{
 "cells": [
  {
   "cell_type": "code",
   "execution_count": null,
   "metadata": {},
   "outputs": [],
   "source": [
    "import os\n",
    "\n",
    "os.chdir(\"..\")\n",
    "from PIL import Image\n",
    "import numpy as np\n",
    "from src.RL.control_dropping_env import BerrettHandGym\n",
    "from math import inf, radians, degrees\n",
    "\n",
    "DATA_SAVE_PATH = os.path.join(\n",
    "    os.getcwd(),\n",
    "    \"Data_Collection\",\n",
    "    \"Grasping_Data_Tianze\",\n",
    ")\n",
    "\n",
    "env = BerrettHandGym(\n",
    "    detailed_training=True,\n",
    ")\n",
    "\n",
    "# Dataset Collection for actions\n",
    "import time as t\n",
    "\n",
    "# def GraspData():\n",
    "#     for i in range(len(env.configs)):\n",
    "#         scene = env.configs[i]['scene']\n",
    "#         hand_config, ball_locations = [degrees(idx) for idx in scene[-7::]], scene\n",
    "#         hand_config = [hand_config[idx] for idx in (0, 3, 2, 1, 6, 5, 4)]\n",
    "#         if not env.simController.setup_scene(hand_config, ball_locations):\n",
    "#              continue\n",
    "#         image1, res1, image2, res2, image3, res3, image4, res4, image5, res5 = env.simController.take_images()\n",
    "#         os.makedirs(os.path.join(DATA_SAVE_PATH, f\"{i}\"), exist_ok=True)\n",
    "#         for img_num, (image, res) in enumerate([(image1, res1), (image2, res2), (image3, res3), (image4, res4), (image5, res5)]):\n",
    "#             img = Image.fromarray(np.array(image).reshape((res[0], res[1], -1)).astype(np.uint8))\n",
    "#             img.save(os.path.join(DATA_SAVE_PATH, f\"{i}\", f\"{img_num}.jpg\"))\n",
    "\n",
    "\n",
    "# GraspData()"
   ]
  },
  {
   "cell_type": "code",
   "execution_count": null,
   "metadata": {},
   "outputs": [],
   "source": [
    "simController = env.simController"
   ]
  },
  {
   "cell_type": "code",
   "execution_count": null,
   "metadata": {},
   "outputs": [],
   "source": [
    "for i in range(len(env.configs)):\n",
    "    scene = env.configs[i][\"scene\"]\n",
    "    hand_config, ball_locations = [degrees(idx) for idx in scene[-7::]], scene\n",
    "    hand_config = [hand_config[idx] for idx in (0, 3, 2, 1, 6, 5, 4)]\n",
    "    if not env.simController.setup_scene(hand_config, ball_locations):\n",
    "        hand_pos = simController.get_state_encoding(np.zeros((5 * 8,)))\n",
    "        pass"
   ]
  }
 ],
 "metadata": {
  "interpreter": {
   "hash": "75c2334136deed52bf97b03d0ad035815439c8709a157dd8d781dd138ecfc43d"
  },
  "kernelspec": {
   "display_name": "Python 3.7.3 ('stbl3')",
   "language": "python",
   "name": "python3"
  },
  "language_info": {
   "codemirror_mode": {
    "name": "ipython",
    "version": 3
   },
   "file_extension": ".py",
   "mimetype": "text/x-python",
   "name": "python",
   "nbconvert_exporter": "python",
   "pygments_lexer": "ipython3",
   "version": "3.7.3"
  },
  "orig_nbformat": 4
 },
 "nbformat": 4,
 "nbformat_minor": 2
}
